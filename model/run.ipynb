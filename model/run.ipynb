{
 "cells": [
  {
   "cell_type": "markdown",
   "metadata": {},
   "source": [
    "### Run Model"
   ]
  },
  {
   "cell_type": "code",
   "execution_count": 16,
   "metadata": {},
   "outputs": [],
   "source": [
    "# Import Libraries \n",
    "from tensorflow.keras.models import load_model\n",
    "import numpy as np\n",
    "from keras.utils import load_img, img_to_array"
   ]
  },
  {
   "cell_type": "code",
   "execution_count": 17,
   "metadata": {},
   "outputs": [],
   "source": [
    "# Model Name\n",
    "model_name = 'cnn_model'\n",
    "\n",
    "# Total number of epochs\n",
    "epochs = 50\n",
    "\n",
    "# Model Epochs\n",
    "model_epochs = str(epochs)\n",
    "\n",
    "# Separator \n",
    "sep = '_'\n",
    "\n",
    "# Model Base File Name\n",
    "model_base_file_name = model_name + sep + model_epochs\n",
    "\n",
    "# Model File Name For 'HDF5' Format\n",
    "h5_model_file_name = model_base_file_name + '.h5'\n",
    "\n",
    "# Model File Name For 'Keras' Format\n",
    "keras_model_file_name = model_base_file_name + '.keras'"
   ]
  },
  {
   "cell_type": "code",
   "execution_count": 18,
   "metadata": {},
   "outputs": [],
   "source": [
    "# Model Base Path\n",
    "model_base_path = '../models/'\n",
    "\n",
    "# Final Model Path \n",
    "model_path = model_base_path + keras_model_file_name"
   ]
  },
  {
   "cell_type": "code",
   "execution_count": 19,
   "metadata": {},
   "outputs": [],
   "source": [
    "# Load the model\n",
    "cnn = load_model(model_path)"
   ]
  },
  {
   "cell_type": "code",
   "execution_count": 20,
   "metadata": {},
   "outputs": [],
   "source": [
    "# Dataset Base Path (Single Prediction)\n",
    "dataset_base_path = '../dataset/single_prediction/'\n",
    "\n",
    "# Image Name\n",
    "image_name = 'real_or_fake1.jpg'\n",
    "# image_name = 'real_or_fake2.jpg'\n",
    "\n",
    "# Final Image Path\n",
    "image_path = dataset_base_path + image_name"
   ]
  },
  {
   "cell_type": "code",
   "execution_count": 21,
   "metadata": {},
   "outputs": [],
   "source": [
    "# Load the image\n",
    "test_image = load_img(image_path, target_size=(64, 64))\n",
    "\n",
    "# Convert the image to array \n",
    "test_image = img_to_array(test_image)\n",
    "\n",
    "# Expand the dimensions of the image\n",
    "test_image = np.expand_dims(test_image, axis=0)"
   ]
  },
  {
   "cell_type": "code",
   "execution_count": 22,
   "metadata": {},
   "outputs": [
    {
     "name": "stdout",
     "output_type": "stream",
     "text": [
      "\u001b[1m1/1\u001b[0m \u001b[32m━━━━━━━━━━━━━━━━━━━━\u001b[0m\u001b[37m\u001b[0m \u001b[1m0s\u001b[0m 117ms/step\n"
     ]
    }
   ],
   "source": [
    "# Make a single prediction\n",
    "result = cnn.predict(test_image)"
   ]
  },
  {
   "cell_type": "code",
   "execution_count": 23,
   "metadata": {},
   "outputs": [],
   "source": [
    "# Check for the result\n",
    "if result[0][0] == 1:\n",
    "    prediction = 'Real'\n",
    "else:\n",
    "    prediction = 'Spoof'"
   ]
  },
  {
   "cell_type": "code",
   "execution_count": 24,
   "metadata": {},
   "outputs": [
    {
     "name": "stdout",
     "output_type": "stream",
     "text": [
      "Spoof\n"
     ]
    }
   ],
   "source": [
    "# Print the prediction\n",
    "print(prediction)"
   ]
  },
  {
   "cell_type": "code",
   "execution_count": 25,
   "metadata": {},
   "outputs": [],
   "source": [
    "# Result File Path\n",
    "result_file_path = '../output/result.txt'\n",
    "\n",
    "# Write the prediction to the result file\n",
    "with open(result_file_path, 'w') as file:\n",
    "    file.write(prediction)\n",
    "    file.close()"
   ]
  },
  {
   "cell_type": "code",
   "execution_count": 26,
   "metadata": {},
   "outputs": [],
   "source": [
    "# Run the IOT python script \n",
    "!python ../code/code.py"
   ]
  }
 ],
 "metadata": {
  "kernelspec": {
   "display_name": "base",
   "language": "python",
   "name": "python3"
  },
  "language_info": {
   "codemirror_mode": {
    "name": "ipython",
    "version": 3
   },
   "file_extension": ".py",
   "mimetype": "text/x-python",
   "name": "python",
   "nbconvert_exporter": "python",
   "pygments_lexer": "ipython3",
   "version": "3.11.10"
  }
 },
 "nbformat": 4,
 "nbformat_minor": 2
}
